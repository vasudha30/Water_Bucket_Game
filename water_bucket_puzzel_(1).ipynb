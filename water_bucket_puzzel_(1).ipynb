{
  "nbformat": 4,
  "nbformat_minor": 0,
  "metadata": {
    "colab": {
      "provenance": []
    },
    "kernelspec": {
      "name": "python3",
      "display_name": "Python 3"
    },
    "language_info": {
      "name": "python"
    }
  },
  "cells": [
    {
      "cell_type": "markdown",
      "source": [
        "# **Water Bucket Puzzel Game**\n",
        "\n",
        "Create the famous water bucket puzzle game using Python.\n",
        "\n",
        "Play Game!\n",
        "\n",
        "https://novelgames.com/en/jars\n",
        "\n",
        "---\n",
        "**Notebook Content**:\n",
        "\n",
        "\n",
        "\n",
        "*   **Lesson 1** :\n",
        "\n",
        "  Setting up the initial environment of the game.\n",
        "*   **Lesson 2 :**\n",
        "\n",
        "  Adding the required valid and invalid conditions alongwith their operations.\n",
        "\n",
        "\n",
        "*  Lesson 3 :\n",
        "\n",
        "  Combining all segments of the code to build the game.\n"
      ],
      "metadata": {
        "id": "vz9M5x3019ec"
      }
    },
    {
      "cell_type": "markdown",
      "source": [
        "# Rules :\n",
        "\n",
        "1) You can fill a bucket with water.\n",
        "\n",
        "2) You can empty a bucket.\n",
        "\n",
        "3) You can pour water from one bucket to the other.\n",
        "\n",
        "4) The goal is to measure 4 liters of    water using the two buckets."
      ],
      "metadata": {
        "id": "MSUBB0Xl4ydO"
      }
    },
    {
      "cell_type": "markdown",
      "source": [
        "## **Lesson 1**\n",
        "\n",
        "**Setting up the initial environment of the game**"
      ],
      "metadata": {
        "id": "P-dsL8eC6Fy1"
      }
    },
    {
      "cell_type": "markdown",
      "source": [
        "In the initial condition we start by defining the initial capacities of the two buckets using variables."
      ],
      "metadata": {
        "id": "lNsFWnW_7WPi"
      }
    },
    {
      "cell_type": "markdown",
      "source": [
        "# **Define initial variables**\n",
        "\n",
        "\n",
        "*   Define variable bucket1 and bucket2.\n",
        "\n",
        "*   we will use bucket1 and bucket2 to represent the two buckets, and initialize their capacities to 0.\n",
        "\n",
        "\n",
        "*   Now take variables max_b1 and max_b2 to represent maximum value of two buckets and initialize their value to 5 & 3 respectively.\n",
        "\n",
        "\n",
        "\n",
        "\n",
        "\n",
        "*   **List of Variables** :\n",
        "\n",
        "```\n",
        "bucket1 ,bucket2 , max_b1 , max_b2\n",
        "```\n",
        "\n",
        "\n",
        "\n",
        "\n",
        "\n",
        "\n"
      ],
      "metadata": {
        "id": "dec5a86p7mFy"
      }
    },
    {
      "cell_type": "code",
      "source": [
        "bucket1 = 0\n",
        "bucket2 = 0\n",
        "max_b1=5\n",
        "max_b2=3"
      ],
      "metadata": {
        "id": "ZFQ_XIFA2Kdf"
      },
      "execution_count": null,
      "outputs": []
    },
    {
      "cell_type": "markdown",
      "source": [
        "Now display the initial condition of game. Initially buckets are empty.\n",
        "\n",
        "\n",
        "```\n",
        "bucket 1 : 0 liters and bucket 2 : 0 liters\n",
        "\n",
        "```\n",
        "\n"
      ],
      "metadata": {
        "id": "NYSKSasi-FpO"
      }
    },
    {
      "cell_type": "code",
      "source": [
        "print('Bucket 1 :',bucket1, 'liters and ','Bucket 2 :' ,bucket2,'liters')"
      ],
      "metadata": {
        "colab": {
          "base_uri": "https://localhost:8080/"
        },
        "id": "a0SNXjgG9dKN",
        "outputId": "d7b0ade2-9c18-4a58-f9ea-d368ef2b8548"
      },
      "execution_count": null,
      "outputs": [
        {
          "output_type": "stream",
          "name": "stdout",
          "text": [
            "Bucket 1 : 0 liters and  Bucket 2 : 0 liters\n"
          ]
        }
      ]
    },
    {
      "cell_type": "markdown",
      "source": [
        "## **Lesson 2**\n",
        "Adding the required valid and invalid conditions alongwith their operations"
      ],
      "metadata": {
        "id": "tooG6RXPBcY2"
      }
    },
    {
      "cell_type": "markdown",
      "source": [
        "Take input from user and store it in the variable 'choice'.\n",
        "\n",
        "player's choice of action : fill a bucket, empty a bucket, or pour water from one bucket to the other or quit the game .\n",
        "\n",
        "**Note :** Make sure you pass appropriate message in input fuction that assits user in entering values."
      ],
      "metadata": {
        "id": "GQdwDdnHCCXT"
      }
    },
    {
      "cell_type": "code",
      "source": [
        "choice = input(\"Select an action: fill, empty, or pour or 'quit' to exit: \")"
      ],
      "metadata": {
        "id": "cxfKM6hQ-j3z",
        "colab": {
          "base_uri": "https://localhost:8080/"
        },
        "outputId": "aec2208b-0172-4efd-d8f4-92b69d3c0452"
      },
      "execution_count": null,
      "outputs": [
        {
          "name": "stdout",
          "output_type": "stream",
          "text": [
            "Select an action: fill, empty, or pour or 'quit' to exit: fill\n"
          ]
        }
      ]
    },
    {
      "cell_type": "markdown",
      "source": [
        "If player's choice is \"fill\" take two inputs:\n",
        "\n",
        "1)'bucket_choice' which bucket player wants to fill.\n",
        "\n",
        "2)'amount'  how much amount of water player wants to fill.\n",
        "\n",
        "**List of variables to take inputs**\n",
        "\n",
        "\n",
        "```\n",
        "bucket_choice , amount\n",
        "```\n",
        "\n"
      ],
      "metadata": {
        "id": "cOh2ec67JTmx"
      }
    },
    {
      "cell_type": "code",
      "source": [
        "if choice == \"fill\":\n",
        "    bucket_choice = input(\"Select a bucket to fill (bucket1 or bucket2): \")\n",
        "    amount = int(input(\"Enter the amount to fill: \"))"
      ],
      "metadata": {
        "id": "67noFxxRM3HW",
        "colab": {
          "base_uri": "https://localhost:8080/"
        },
        "outputId": "f3bdc631-4371-44fe-8220-8e57b17125a7"
      },
      "execution_count": null,
      "outputs": [
        {
          "name": "stdout",
          "output_type": "stream",
          "text": [
            "Select a bucket to fill (bucket1 or bucket2): bucket1\n",
            "Enter the amount to fill: 5\n"
          ]
        }
      ]
    },
    {
      "cell_type": "markdown",
      "source": [
        "**Invalid Input**\n",
        "\n",
        "Check for invalid inputs as entered amount cannot be negative(less than 0), amount cannot exceed its maximum value, and if entered amount is not equal to maximum value print \" Invalid Input\" .\n",
        "\n",
        "else print max value of buckets initialized before."
      ],
      "metadata": {
        "id": "cN3nZOJ5LAx0"
      }
    },
    {
      "cell_type": "markdown",
      "source": [
        "Check for both buckets 1 and 2."
      ],
      "metadata": {
        "id": "OPHazgP5M_6c"
      }
    },
    {
      "cell_type": "code",
      "source": [
        "if bucket_choice == \"bucket1\":\n",
        "  if amount < 0 or ((bucket1 + amount) > max_b1) or (amount != max_b1):\n",
        "      print(\"Invalid input\")\n",
        "  else:\n",
        "      bucket1 = max_b1\n",
        "      print('bucket1=', bucket1)\n",
        "\n",
        "elif bucket_choice == \"bucket2\":\n",
        "  if amount < 0 or ((bucket2 + amount) > max_b2) or (amount != max_b2):\n",
        "      print(\"Invalid input\")\n",
        "  else:\n",
        "      bucket2 = max_b2\n",
        "      print('bucket2=', bucket2)"
      ],
      "metadata": {
        "colab": {
          "base_uri": "https://localhost:8080/"
        },
        "id": "eLvYctpqH7Gh",
        "outputId": "a279f1ee-89be-46f1-b8c2-eded36d11d95"
      },
      "execution_count": null,
      "outputs": [
        {
          "output_type": "stream",
          "name": "stdout",
          "text": [
            "bucket1= 5\n"
          ]
        }
      ]
    },
    {
      "cell_type": "markdown",
      "source": [
        "Now display buckets fill with water.\n",
        "\n",
        "\n",
        "\n",
        "```\n",
        "bucket 1 : 5 liters and bucket 2 : 3 liters\n",
        "```\n",
        "\n"
      ],
      "metadata": {
        "id": "6IcHyhYaN3S4"
      }
    },
    {
      "cell_type": "code",
      "source": [
        "print('Bucket 1:', bucket1, 'liters & ', 'Bucket 2:', bucket2, 'liters')"
      ],
      "metadata": {
        "colab": {
          "base_uri": "https://localhost:8080/"
        },
        "id": "ZhI2oNG_NnaD",
        "outputId": "0eec31d2-10c6-4193-cdd3-a7eed33eee31"
      },
      "execution_count": null,
      "outputs": [
        {
          "output_type": "stream",
          "name": "stdout",
          "text": [
            "Bucket 1: 5 liters &  Bucket 2: 0 liters\n"
          ]
        }
      ]
    },
    {
      "cell_type": "markdown",
      "source": [
        "If player's choice is \"empty\" :\n",
        "\n",
        "take input to select the bucket to empty and set the capacity of the selected bucket to 0."
      ],
      "metadata": {
        "id": "t_vntE4SwHBz"
      }
    },
    {
      "cell_type": "code",
      "source": [
        "if choice == \"empty\":\n",
        "  bucket_choice = input(\"Select a bucket to empty (bucket1 or bucket2): \")\n",
        "  if bucket_choice == \"bucket1\":\n",
        "      bucket1 = 0\n",
        "      print('bucket1=',bucket1)\n",
        "  elif bucket_choice == \"bucket2\":\n",
        "      bucket2 = 0\n",
        "      print('bucket2=',bucket2)"
      ],
      "metadata": {
        "id": "H7i2jOCKOOAu"
      },
      "execution_count": null,
      "outputs": []
    },
    {
      "cell_type": "markdown",
      "source": [
        "If player's choice is \"pour\" :\n",
        "\n",
        "take input as from_bucket, to_bucket, and the amount to pour.\n",
        "\n",
        "**List of variables to take inputs**:\n",
        "\n",
        "```\n",
        "from_bucket , to_bucket , amount\n",
        "```\n",
        "\n"
      ],
      "metadata": {
        "id": "zvPA1DltwmJJ"
      }
    },
    {
      "cell_type": "code",
      "source": [
        "if choice == \"pour\":\n",
        "  print('pour')"
      ],
      "metadata": {
        "id": "7uTBhICivwRP"
      },
      "execution_count": null,
      "outputs": []
    },
    {
      "cell_type": "code",
      "source": [
        "from_bucket = input(\"Select a bucket to pour from (bucket1 or bucket2): \")\n",
        "to_bucket = input(\"Select a bucket to pour into (bucket1 or bucket2): \")\n",
        "amount = int(input(\"Enter the amount to pour: \"))"
      ],
      "metadata": {
        "colab": {
          "base_uri": "https://localhost:8080/"
        },
        "id": "hX4MD4ua1VxI",
        "outputId": "ef01071d-dbe2-4c05-d257-3496e325bfc6"
      },
      "execution_count": null,
      "outputs": [
        {
          "name": "stdout",
          "output_type": "stream",
          "text": [
            "Select a bucket to pour from (bucket1 or bucket2): bucket1\n",
            "Select a bucket to pour into (bucket1 or bucket2): bucket2\n",
            "Enter the amount to pour: 1\n"
          ]
        }
      ]
    },
    {
      "cell_type": "markdown",
      "source": [
        "check for **Invalid Input** :\n",
        "\n",
        "if player choose to pour water from bucket1 to bucket2 ,\n",
        "\n",
        "check if the amount entered by player is negative , amount is greater than bucket1, and amount is greater than bucket2's  limit\n",
        "\n",
        "print \"Invalid Input\" .\n",
        "\n",
        "else reduce amount from bucket1 and add to bucket2.\n"
      ],
      "metadata": {
        "id": "wWsv8hboyfZe"
      }
    },
    {
      "cell_type": "code",
      "source": [
        "if from_bucket == \"bucket1\" and to_bucket == \"bucket2\":\n",
        "  if amount < 0 or (amount > bucket1) or (amount > (max_b2 - bucket2)):\n",
        "      print(\"Invalid input\")\n",
        "  else:\n",
        "      bucket1 -= amount\n",
        "      bucket2 += amount\n",
        "      print('bucket2=', bucket2)"
      ],
      "metadata": {
        "id": "f81w6-rEydM2"
      },
      "execution_count": null,
      "outputs": []
    },
    {
      "cell_type": "markdown",
      "source": [
        "If player choose to pour water from bucket2 to bucket1 do same procedure and check amount is greater than limit of bucket1.\n",
        "\n",
        "print \"Invalid\""
      ],
      "metadata": {
        "id": "pX1NfDBb1qV_"
      }
    },
    {
      "cell_type": "code",
      "source": [
        "if from_bucket == \"bucket2\" and to_bucket == \"bucket1\":\n",
        "  if amount < 0 or (amount > bucket2) or ((amount + bucket1) > max_b1):\n",
        "      print(\"Invalid input\")\n",
        "  else:\n",
        "      bucket2 -= amount\n",
        "      bucket1 += amount\n",
        "      print('bucket1=', bucket1)"
      ],
      "metadata": {
        "id": "2_KeRA5w1E6h",
        "colab": {
          "base_uri": "https://localhost:8080/"
        },
        "outputId": "1cb435a7-1053-4692-b754-16f0ab42dd9c"
      },
      "execution_count": null,
      "outputs": [
        {
          "output_type": "stream",
          "name": "stdout",
          "text": [
            "bucket1= 5\n"
          ]
        }
      ]
    },
    {
      "cell_type": "markdown",
      "source": [
        "Now print water in bucket ."
      ],
      "metadata": {
        "id": "zU4T0M1i2NFs"
      }
    },
    {
      "cell_type": "code",
      "source": [
        "print('Bucket 1:', bucket1, 'liters & ', 'Bucket 2:', bucket2, 'liters')"
      ],
      "metadata": {
        "colab": {
          "base_uri": "https://localhost:8080/"
        },
        "id": "2fOd9gEy2Fr1",
        "outputId": "fe3180aa-f831-4376-8a93-e1d7f6055310"
      },
      "execution_count": null,
      "outputs": [
        {
          "output_type": "stream",
          "name": "stdout",
          "text": [
            "Bucket 1: 4 liters &  Bucket 2: 1 liters\n"
          ]
        }
      ]
    },
    {
      "cell_type": "markdown",
      "source": [
        "If player's choice is \"quit\""
      ],
      "metadata": {
        "id": "PGLxXH6P2yO8"
      }
    },
    {
      "cell_type": "code",
      "source": [
        "if choice == \"quit\":\n",
        "  print('quit')"
      ],
      "metadata": {
        "id": "bIlNlZt62fUr"
      },
      "execution_count": null,
      "outputs": []
    },
    {
      "cell_type": "markdown",
      "source": [
        "Win condition : if bucket1 measures 4 liters of water print \"win\"."
      ],
      "metadata": {
        "id": "9pkLgKD03TtE"
      }
    },
    {
      "cell_type": "code",
      "source": [
        "if bucket1 == 4 :\n",
        "  print(\"you win\")"
      ],
      "metadata": {
        "id": "7d99JbMl3Ftp",
        "colab": {
          "base_uri": "https://localhost:8080/"
        },
        "outputId": "09b58b88-5c42-45f7-ccb7-c18be5527821"
      },
      "execution_count": null,
      "outputs": [
        {
          "output_type": "stream",
          "name": "stdout",
          "text": [
            "you win\n"
          ]
        }
      ]
    },
    {
      "cell_type": "markdown",
      "source": [
        "# **Lesson 3**\n",
        "Combining all segments of the code to build the game.\n",
        "\n",
        "Take while loop to continue the game until win condition"
      ],
      "metadata": {
        "id": "w8dBV1FJ4QiW"
      }
    },
    {
      "cell_type": "code",
      "source": [
        "bucket1 = 0\n",
        "bucket2 = 0\n",
        "max_b1 = 5\n",
        "max_b2 = 3\n",
        "\n",
        "print('Bucket 1:', bucket1, 'liters & ', 'Bucket 2:', bucket2, 'liters')\n",
        "while True:\n",
        "\n",
        "    choice = input(\"Select an action: fill, empty, or pour or 'quit' to exit: \")\n",
        "\n",
        "    if choice == \"fill\":\n",
        "        bucket_choice = input(\"Select a bucket to fill (bucket1 or bucket2): \")\n",
        "        amount = int(input(\"Enter the amount to fill: \"))\n",
        "        if bucket_choice == \"bucket1\":\n",
        "            if amount < 0 or ((bucket1 + amount) > max_b1) or (amount != max_b1):\n",
        "                print(\"Invalid input\")\n",
        "            else:\n",
        "                bucket1 = max_b1\n",
        "            print('bucket1=', bucket1)\n",
        "        elif bucket_choice == \"bucket2\":\n",
        "            if amount < 0 or ((bucket2 + amount) > max_b2) or (amount != max_b2):\n",
        "                print(\"Invalid input\")\n",
        "            else:\n",
        "                bucket2 = max_b2\n",
        "            print('bucket2=', bucket2)\n",
        "        print('Bucket 1:', bucket1, 'liters & ', 'Bucket 2:', bucket2, 'liters')\n",
        "\n",
        "    elif choice == \"empty\":\n",
        "        bucket_choice = input(\"Select a bucket to empty (bucket1 or bucket2): \")\n",
        "        if bucket_choice == \"bucket1\":\n",
        "            bucket1 = 0\n",
        "            print('bucket1=', bucket1)\n",
        "        elif bucket_choice == \"bucket2\":\n",
        "            bucket2 = 0\n",
        "            print('bucket2=', bucket2)\n",
        "        print('Bucket 1:', bucket1, 'liters & ', 'Bucket 2:', bucket2, 'liters')\n",
        "\n",
        "    elif choice == \"pour\":\n",
        "        from_bucket = input(\"Select a bucket to pour from (bucket1 or bucket2): \")\n",
        "        to_bucket = input(\"Select a bucket to pour into (bucket1 or bucket2): \")\n",
        "        amount = int(input(\"Enter the amount to pour: \"))\n",
        "        if from_bucket == \"bucket1\" and to_bucket == \"bucket2\":\n",
        "            if amount < 0 or (amount > bucket1) or (amount > (max_b2 - bucket2)):\n",
        "                print(\"Invalid input\")\n",
        "            else:\n",
        "                bucket1 -= amount\n",
        "                bucket2 += amount\n",
        "                print('bucket2=', bucket2)\n",
        "            print('Bucket 1:', bucket1, 'liters & ', 'Bucket 2:', bucket2, 'liters')\n",
        "        elif from_bucket == \"bucket2\" and to_bucket == \"bucket1\":\n",
        "            if amount < 0 or (amount > bucket2) or ((amount + bucket1) > max_b1):\n",
        "                print(\"Invalid input\")\n",
        "            else:\n",
        "                bucket2 -= amount\n",
        "                bucket1 += amount\n",
        "                print('bucket1=', bucket1)\n",
        "            print('Bucket 1:', bucket1, 'liters & ', 'Bucket 2:', bucket2, 'liters')\n",
        "        if bucket1 == 4:\n",
        "            print(\"you win\")\n",
        "            break\n",
        "\n",
        "\n",
        "\n",
        "    elif choice == \"quit\":\n",
        "        break\n"
      ],
      "metadata": {
        "id": "182zaRep5Y8Q",
        "colab": {
          "base_uri": "https://localhost:8080/"
        },
        "outputId": "e679e284-a966-4a07-f2a1-043f1ed7c3e8"
      },
      "execution_count": null,
      "outputs": [
        {
          "output_type": "stream",
          "name": "stdout",
          "text": [
            "Bucket 1: 0 liters &  Bucket 2: 0 liters\n",
            "Select an action: fill, empty, or pour or 'quit' to exit: fill\n",
            "Select a bucket to fill (bucket1 or bucket2): bucket1\n",
            "Enter the amount to fill: 5\n",
            "bucket1= 5\n",
            "Bucket 1: 5 liters &  Bucket 2: 0 liters\n",
            "Select an action: fill, empty, or pour or 'quit' to exit: fill\n",
            "Select a bucket to fill (bucket1 or bucket2): bucket2\n",
            "Enter the amount to fill: 3\n",
            "bucket2= 3\n",
            "Bucket 1: 5 liters &  Bucket 2: 3 liters\n",
            "Select an action: fill, empty, or pour or 'quit' to exit: empty\n",
            "Select a bucket to empty (bucket1 or bucket2): bucket1\n",
            "bucket1= 0\n",
            "Bucket 1: 0 liters &  Bucket 2: 3 liters\n",
            "Select an action: fill, empty, or pour or 'quit' to exit: pour\n",
            "Select a bucket to pour from (bucket1 or bucket2): bucket2\n",
            "Select a bucket to pour into (bucket1 or bucket2): bucket1\n",
            "Enter the amount to pour: 3\n",
            "bucket1= 3\n",
            "Bucket 1: 3 liters &  Bucket 2: 0 liters\n",
            "Select an action: fill, empty, or pour or 'quit' to exit: fill\n",
            "Select a bucket to fill (bucket1 or bucket2): bucket1\n",
            "Enter the amount to fill: 1\n",
            "Invalid input\n",
            "bucket1= 3\n",
            "Bucket 1: 3 liters &  Bucket 2: 0 liters\n",
            "Select an action: fill, empty, or pour or 'quit' to exit: fill\n",
            "Select a bucket to fill (bucket1 or bucket2): bucket2\n",
            "Enter the amount to fill: 3\n",
            "bucket2= 3\n",
            "Bucket 1: 3 liters &  Bucket 2: 3 liters\n",
            "Select an action: fill, empty, or pour or 'quit' to exit: pour\n",
            "Select a bucket to pour from (bucket1 or bucket2): bucket2\n",
            "Select a bucket to pour into (bucket1 or bucket2): bucket1\n",
            "Enter the amount to pour: 1\n",
            "bucket1= 4\n",
            "Bucket 1: 4 liters &  Bucket 2: 2 liters\n",
            "you win\n"
          ]
        }
      ]
    },
    {
      "cell_type": "code",
      "source": [],
      "metadata": {
        "id": "hLk1tk3xpMk1"
      },
      "execution_count": null,
      "outputs": []
    }
  ]
}